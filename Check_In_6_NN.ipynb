{
  "nbformat": 4,
  "nbformat_minor": 0,
  "metadata": {
    "colab": {
      "provenance": [],
      "authorship_tag": "ABX9TyMl3B6wZtF/UK3er4ahoP4l"
    },
    "kernelspec": {
      "name": "python3",
      "display_name": "Python 3"
    },
    "language_info": {
      "name": "python"
    }
  },
  "cells": [
    {
      "cell_type": "code",
      "execution_count": null,
      "metadata": {
        "id": "9hKJ4EDgR_MC"
      },
      "outputs": [],
      "source": [
        "import pandas as pd\n",
        "import matplotlib.pyplot as plt\n",
        "import seaborn as sns\n",
        "import numpy as np\n",
        "import plotly.express as px\n",
        "import plotly.graph_objects as go\n",
        "from sklearn.model_selection import train_test_split\n",
        "from sklearn.model_selection import cross_val_score, StratifiedKFold\n",
        "from sklearn.preprocessing import StandardScaler\n",
        "from sklearn.preprocessing import LabelEncoder"
      ]
    },
    {
      "cell_type": "code",
      "source": [
        "df = pd.read_csv(\"hf://datasets/maharshipandya/spotify-tracks-dataset/dataset.csv\")"
      ],
      "metadata": {
        "id": "cIdSnlwoSPiT"
      },
      "execution_count": null,
      "outputs": []
    },
    {
      "cell_type": "code",
      "source": [
        "#Checking loading of data frame\n",
        "df.head(5)"
      ],
      "metadata": {
        "id": "m0f7MJumSSb8"
      },
      "execution_count": null,
      "outputs": []
    },
    {
      "cell_type": "code",
      "source": [
        "# Data Cleaning Function (modify)\n",
        "def clean_data(df):\n",
        "  clean_df = df.copy()\n",
        "  clean_df = clean_df.drop('Unnamed: 0', axis=1, errors='ignore')\n",
        "  clean_df = clean_df.dropna()\n",
        "\n",
        "  #Encode explicit column (binary encoding)\n",
        "  clean_df['explicit'] = clean_df['explicit'].astype(int)\n",
        "\n",
        "  # Drop track_id, artisits,album_name\n",
        "  clean_df = clean_df.drop(['track_id', 'artists', 'album_name'], axis=1)\n",
        "\n",
        "  # Lets look at clustering only track_genre (Pop, Rock,Hip-Hop,Electronic,Indie, blues, Country, Jazz, Latin, Reggae)\n",
        "  genres_to_keep = ['pop', 'rock', 'hip-hop', 'electronic', 'indie', 'blues ','country', 'jazz', 'latin', 'reggae']\n",
        "  clean_df = clean_df[clean_df['track_genre'].isin(genres_to_keep)]\n",
        "  track_genre_mapping = {'pop': 0, 'rock': 1, 'hip-hop': 2, 'electronic': 3, 'indie': 4, 'blues ': 5, 'country': 6, 'jazz': 7, 'latin': 8, 'reggae': 9}\n",
        "  clean_df['track_genre'] = clean_df['track_genre'].map(track_genre_mapping)\n",
        "\n",
        "  return clean_df\n",
        "\n",
        "# Apply the function to the DataFrame\n",
        "spotify_clean = clean_data(df)"
      ],
      "metadata": {
        "id": "40rTSDq2SUXd"
      },
      "execution_count": null,
      "outputs": []
    },
    {
      "cell_type": "code",
      "source": [
        "#Looking at cleaned data frame\n",
        "spotify_clean.sample(15)"
      ],
      "metadata": {
        "id": "XpwTce2SSZpC"
      },
      "execution_count": null,
      "outputs": []
    },
    {
      "cell_type": "code",
      "source": [],
      "metadata": {
        "id": "0eZbGz4sSfnm"
      },
      "execution_count": null,
      "outputs": []
    },
    {
      "cell_type": "markdown",
      "source": [
        "## Application of Neural Network (NN) for classification"
      ],
      "metadata": {
        "id": "eMjp66x8Sfyc"
      }
    },
    {
      "cell_type": "code",
      "source": [],
      "metadata": {
        "id": "kbsGwd8-SmrZ"
      },
      "execution_count": null,
      "outputs": []
    },
    {
      "cell_type": "markdown",
      "source": [
        "## NN Training: Detail how you trained your NN including how you learned hyperparameters such as learning rate."
      ],
      "metadata": {
        "id": "7BUVK9-9SuU6"
      }
    },
    {
      "cell_type": "markdown",
      "source": [
        "## Explain the metrics you are using to assess the performance of your NN"
      ],
      "metadata": {
        "id": "Ou8BGCzBSnHZ"
      }
    },
    {
      "cell_type": "code",
      "source": [],
      "metadata": {
        "id": "VtjrywB3SqkX"
      },
      "execution_count": null,
      "outputs": []
    }
  ]
}