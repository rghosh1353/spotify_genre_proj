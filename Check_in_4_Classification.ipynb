{
  "nbformat": 4,
  "nbformat_minor": 0,
  "metadata": {
    "colab": {
      "provenance": [],
      "authorship_tag": "ABX9TyNKCPwajjKU0LMtGQuvY4Cz"
    },
    "kernelspec": {
      "name": "python3",
      "display_name": "Python 3"
    },
    "language_info": {
      "name": "python"
    }
  },
  "cells": [
    {
      "cell_type": "code",
      "execution_count": 1,
      "metadata": {
        "colab": {
          "base_uri": "https://localhost:8080/"
        },
        "id": "B0LID95tkNjw",
        "outputId": "f63e7946-1532-4592-aa76-73ed0df713c7"
      },
      "outputs": [
        {
          "output_type": "stream",
          "name": "stdout",
          "text": [
            "Collecting scikit-lego\n",
            "  Downloading scikit_lego-0.9.1-py2.py3-none-any.whl.metadata (12 kB)\n",
            "Collecting narwhals>=1.0.0 (from scikit-lego)\n",
            "  Downloading narwhals-1.12.1-py3-none-any.whl.metadata (7.2 kB)\n",
            "Requirement already satisfied: pandas>=1.1.5 in /usr/local/lib/python3.10/dist-packages (from scikit-lego) (2.2.2)\n",
            "Requirement already satisfied: scikit-learn>=1.0 in /usr/local/lib/python3.10/dist-packages (from scikit-lego) (1.5.2)\n",
            "Requirement already satisfied: numpy>=1.22.4 in /usr/local/lib/python3.10/dist-packages (from pandas>=1.1.5->scikit-lego) (1.26.4)\n",
            "Requirement already satisfied: python-dateutil>=2.8.2 in /usr/local/lib/python3.10/dist-packages (from pandas>=1.1.5->scikit-lego) (2.8.2)\n",
            "Requirement already satisfied: pytz>=2020.1 in /usr/local/lib/python3.10/dist-packages (from pandas>=1.1.5->scikit-lego) (2024.2)\n",
            "Requirement already satisfied: tzdata>=2022.7 in /usr/local/lib/python3.10/dist-packages (from pandas>=1.1.5->scikit-lego) (2024.2)\n",
            "Requirement already satisfied: scipy>=1.6.0 in /usr/local/lib/python3.10/dist-packages (from scikit-learn>=1.0->scikit-lego) (1.13.1)\n",
            "Requirement already satisfied: joblib>=1.2.0 in /usr/local/lib/python3.10/dist-packages (from scikit-learn>=1.0->scikit-lego) (1.4.2)\n",
            "Requirement already satisfied: threadpoolctl>=3.1.0 in /usr/local/lib/python3.10/dist-packages (from scikit-learn>=1.0->scikit-lego) (3.5.0)\n",
            "Requirement already satisfied: six>=1.5 in /usr/local/lib/python3.10/dist-packages (from python-dateutil>=2.8.2->pandas>=1.1.5->scikit-lego) (1.16.0)\n",
            "Downloading scikit_lego-0.9.1-py2.py3-none-any.whl (216 kB)\n",
            "\u001b[2K   \u001b[90m━━━━━━━━━━━━━━━━━━━━━━━━━━━━━━━━━━━━━━━━\u001b[0m \u001b[32m216.7/216.7 kB\u001b[0m \u001b[31m3.6 MB/s\u001b[0m eta \u001b[36m0:00:00\u001b[0m\n",
            "\u001b[?25hDownloading narwhals-1.12.1-py3-none-any.whl (195 kB)\n",
            "\u001b[2K   \u001b[90m━━━━━━━━━━━━━━━━━━━━━━━━━━━━━━━━━━━━━━━━\u001b[0m \u001b[32m195.1/195.1 kB\u001b[0m \u001b[31m11.0 MB/s\u001b[0m eta \u001b[36m0:00:00\u001b[0m\n",
            "\u001b[?25hInstalling collected packages: narwhals, scikit-lego\n",
            "Successfully installed narwhals-1.12.1 scikit-lego-0.9.1\n"
          ]
        }
      ],
      "source": [
        "pip install scikit-lego"
      ]
    },
    {
      "cell_type": "code",
      "source": [
        "import pandas as pd\n",
        "import matplotlib.pyplot as plt\n",
        "import seaborn as sns\n",
        "import numpy as np\n",
        "import plotly.express as px\n",
        "import plotly.graph_objects as go\n",
        "from sklearn.base import clone\n",
        "from sklearn.metrics import accuracy_score, confusion_matrix, mean_squared_error, mean_absolute_error, recall_score, roc_auc_score, roc_curve, r2_score\n",
        "from sklearn.model_selection import cross_val_score, StratifiedKFold, train_test_split\n",
        "from sklearn.neighbors import KNeighborsClassifier\n",
        "from sklearn.preprocessing import StandardScaler\n",
        "from sklearn.ensemble import RandomForestClassifier"
      ],
      "metadata": {
        "id": "rhpV1-GHk3no"
      },
      "execution_count": null,
      "outputs": []
    },
    {
      "cell_type": "code",
      "source": [
        "df = pd.read_csv(\"hf://datasets/maharshipandya/spotify-tracks-dataset/dataset.csv\")"
      ],
      "metadata": {
        "id": "PfkIrFaLk_X8"
      },
      "execution_count": null,
      "outputs": []
    },
    {
      "cell_type": "code",
      "source": [
        "# Choosing predictor and response variable\n",
        "correlation = df['energy'].corr(df['explicit'])\n",
        "print(f\"Correlation between energy and explicit: {correlation}\")\n",
        "\n",
        "# Create a scatter plot to visualize the relationship between energy and explicit.\n",
        "plt.figure(figsize=(8, 6))\n",
        "sns.scatterplot(data=df, x='energy', y='explicit')\n",
        "plt.title('Relationship between Energy and Explicit Content')\n",
        "plt.xlabel('Energy')\n",
        "plt.ylabel('Explicit')\n",
        "plt.show()\n",
        "\n",
        "# Box plot to see the distribution of energy based on whether a song is explicit or not\n",
        "sns.boxplot(data=df, x='explicit', y='energy')\n",
        "plt.title('Distribution of Energy based on Explicit Content')\n",
        "plt.xlabel('Explicit')\n",
        "plt.ylabel('Energy')\n",
        "plt.show()"
      ],
      "metadata": {
        "id": "Y22U5R3UlBqU"
      },
      "execution_count": null,
      "outputs": []
    },
    {
      "cell_type": "markdown",
      "source": [
        "## Modified Cleaning Function"
      ],
      "metadata": {
        "id": "UJZ7snotlI92"
      }
    },
    {
      "cell_type": "markdown",
      "source": [
        "1. We're choosing 'explicit' as our binary categorical response variable.\n",
        "\n",
        "2. Our predictor variable is 'energy'.\n",
        "\n",
        "For ease of this check in, we're modifying our cleaning function to only include determining characteristics, our response variable, and our predictor variable."
      ],
      "metadata": {
        "id": "ZMxhR6AalRD4"
      }
    },
    {
      "cell_type": "code",
      "source": [
        "# Data Cleaning Function\n",
        "def clean_data(df):\n",
        "  clean_df = df.copy()\n",
        "  clean_df = clean_df.drop('Unnamed: 0', axis=1, errors='ignore')\n",
        "  clean_df = clean_df.dropna()\n",
        "  clean_df['explicit'] = clean_df['explicit'].astype(int)\n",
        "  clean_df = clean_df[['track_id', 'artists', 'album_name', 'track_name', 'energy','explicit']]\n",
        "  return clean_df\n",
        "\n",
        "# Apply the function to the DataFrame\n",
        "spotify_clean = clean_data(df)"
      ],
      "metadata": {
        "id": "BljetT5GlWKa"
      },
      "execution_count": null,
      "outputs": []
    },
    {
      "cell_type": "code",
      "source": [
        "# Split data into train and test\n",
        "train_spotify, val_spotify = train_test_split(spotify_clean, test_size=0.2, random_state=42)\n",
        "train_spotify"
      ],
      "metadata": {
        "id": "dJUDw72TlYMF"
      },
      "execution_count": null,
      "outputs": []
    },
    {
      "cell_type": "code",
      "source": [
        "#Class imbalance\n",
        "train_spotify['explicit'].value_counts()"
      ],
      "metadata": {
        "id": "WNhA4TYjlcsd"
      },
      "execution_count": null,
      "outputs": []
    },
    {
      "cell_type": "code",
      "source": [
        "7851/(7851+83348) #Really small percentage of explicit (True)"
      ],
      "metadata": {
        "id": "BZUNY-aQlfQz"
      },
      "execution_count": null,
      "outputs": []
    },
    {
      "cell_type": "markdown",
      "source": [
        "## Stage 5: KNN or Random Forest Algorithm\n",
        "1. For the data set you have chosen and the binary categorical response variable that you had chosen for Check-In 3 for a logistic regression or another binary variable in your data set, apply the KNN algorithm or Random Forest Algorithm for classification.(The variable chosen does not have to be directly related to the final goal of your project.)"
      ],
      "metadata": {
        "id": "osf9RAhBlr0D"
      }
    },
    {
      "cell_type": "code",
      "source": [],
      "metadata": {
        "id": "yxPx6I1Cl10r"
      },
      "execution_count": null,
      "outputs": []
    },
    {
      "cell_type": "markdown",
      "source": [
        "2. Calculate the confusion matrix, prediction accuracy, prediction error, true positive rate, and true negative rate, and F1 score on your training data set"
      ],
      "metadata": {
        "id": "4nRmFtY6l2ZG"
      }
    },
    {
      "cell_type": "code",
      "source": [],
      "metadata": {
        "id": "R_SHdnr7l5X1"
      },
      "execution_count": null,
      "outputs": []
    },
    {
      "cell_type": "markdown",
      "source": [
        "3. Calculate and plot the ROC curve and AUC on your validation data set. Use 5-fold cross-validation on the validation set to calculate the AUC and accuracy of each fold."
      ],
      "metadata": {
        "id": "Cc5-05i-l5gL"
      }
    },
    {
      "cell_type": "code",
      "source": [],
      "metadata": {
        "id": "NW74-lNpl8oh"
      },
      "execution_count": null,
      "outputs": []
    }
  ]
}