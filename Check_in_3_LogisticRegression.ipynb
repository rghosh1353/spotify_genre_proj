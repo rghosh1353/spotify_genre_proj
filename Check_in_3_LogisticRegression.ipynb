{
  "nbformat": 4,
  "nbformat_minor": 0,
  "metadata": {
    "colab": {
      "provenance": [],
      "authorship_tag": "ABX9TyPGy7B9ulFF21hvDoGB38AX",
      "include_colab_link": true
    },
    "kernelspec": {
      "name": "python3",
      "display_name": "Python 3"
    },
    "language_info": {
      "name": "python"
    }
  },
  "cells": [
    {
      "cell_type": "markdown",
      "metadata": {
        "id": "view-in-github",
        "colab_type": "text"
      },
      "source": [
        "<a href=\"https://colab.research.google.com/github/rghosh1353/spotify_genre_proj/blob/main/Check_in_3_LogisticRegression.ipynb\" target=\"_parent\"><img src=\"https://colab.research.google.com/assets/colab-badge.svg\" alt=\"Open In Colab\"/></a>"
      ]
    },
    {
      "cell_type": "code",
      "execution_count": 44,
      "metadata": {
        "colab": {
          "base_uri": "https://localhost:8080/"
        },
        "id": "p60zKmOl_cZn",
        "outputId": "f0ab0b7a-b727-4d5a-ce99-20178eb18672"
      },
      "outputs": [
        {
          "output_type": "stream",
          "name": "stdout",
          "text": [
            "Requirement already satisfied: scikit-lego in /usr/local/lib/python3.10/dist-packages (0.9.1)\n",
            "Requirement already satisfied: narwhals>=1.0.0 in /usr/local/lib/python3.10/dist-packages (from scikit-lego) (1.10.0)\n",
            "Requirement already satisfied: pandas>=1.1.5 in /usr/local/lib/python3.10/dist-packages (from scikit-lego) (2.2.2)\n",
            "Requirement already satisfied: scikit-learn>=1.0 in /usr/local/lib/python3.10/dist-packages (from scikit-lego) (1.5.2)\n",
            "Requirement already satisfied: numpy>=1.22.4 in /usr/local/lib/python3.10/dist-packages (from pandas>=1.1.5->scikit-lego) (1.26.4)\n",
            "Requirement already satisfied: python-dateutil>=2.8.2 in /usr/local/lib/python3.10/dist-packages (from pandas>=1.1.5->scikit-lego) (2.8.2)\n",
            "Requirement already satisfied: pytz>=2020.1 in /usr/local/lib/python3.10/dist-packages (from pandas>=1.1.5->scikit-lego) (2024.2)\n",
            "Requirement already satisfied: tzdata>=2022.7 in /usr/local/lib/python3.10/dist-packages (from pandas>=1.1.5->scikit-lego) (2024.2)\n",
            "Requirement already satisfied: scipy>=1.6.0 in /usr/local/lib/python3.10/dist-packages (from scikit-learn>=1.0->scikit-lego) (1.13.1)\n",
            "Requirement already satisfied: joblib>=1.2.0 in /usr/local/lib/python3.10/dist-packages (from scikit-learn>=1.0->scikit-lego) (1.4.2)\n",
            "Requirement already satisfied: threadpoolctl>=3.1.0 in /usr/local/lib/python3.10/dist-packages (from scikit-learn>=1.0->scikit-lego) (3.5.0)\n",
            "Requirement already satisfied: six>=1.5 in /usr/local/lib/python3.10/dist-packages (from python-dateutil>=2.8.2->pandas>=1.1.5->scikit-lego) (1.16.0)\n"
          ]
        }
      ],
      "source": [
        "%pip install scikit-lego"
      ]
    },
    {
      "cell_type": "code",
      "source": [
        "import pandas as pd\n",
        "import matplotlib.pyplot as plt\n",
        "import seaborn as sns\n",
        "import numpy as np\n",
        "import plotly.express as px\n",
        "import plotly.graph_objects as go\n",
        "from sklearn.linear_model import LinearRegression\n",
        "from sklego.linear_model import LADRegression\n",
        "from sklearn.linear_model import LogisticRegression\n",
        "from sklearn.metrics import mean_squared_error, mean_absolute_error, r2_score"
      ],
      "metadata": {
        "id": "AmhNQ4tZ_zqp"
      },
      "execution_count": 45,
      "outputs": []
    },
    {
      "cell_type": "code",
      "source": [
        "df = pd.read_csv(\"hf://datasets/maharshipandya/spotify-tracks-dataset/dataset.csv\")"
      ],
      "metadata": {
        "id": "HJF4Xpun_1J1"
      },
      "execution_count": 46,
      "outputs": []
    },
    {
      "cell_type": "code",
      "source": [
        "# Data Cleaning Function\n",
        "def clean_data(df):\n",
        "  clean_df = df.copy()\n",
        "  clean_df = clean_df.drop('Unnamed: 0', axis=1, errors='ignore')\n",
        "  clean_df = clean_df.dropna()\n",
        "  clean_df['explicit'] = clean_df['explicit'].astype(int)\n",
        "  clean_df = clean_df[['track_id', 'artists', 'album_name', 'track_name', 'energy','explicit']]\n",
        "  return clean_df\n",
        "\n",
        "# Apply the function to the DataFrame\n",
        "spotify_clean = clean_data(df)\n"
      ],
      "metadata": {
        "id": "NMWOKL2v_14H"
      },
      "execution_count": 47,
      "outputs": []
    },
    {
      "cell_type": "code",
      "source": [
        "# Split data into train and test\n",
        "from sklearn.model_selection import train_test_split\n",
        "train_spotify, val_spotify = train_test_split(spotify_clean, test_size=0.2, random_state=42)"
      ],
      "metadata": {
        "id": "NrA9K4EyACCB"
      },
      "execution_count": 48,
      "outputs": []
    },
    {
      "cell_type": "markdown",
      "source": [
        "# Stage 5: Logistic Regression"
      ],
      "metadata": {
        "id": "-Rbicaw7AGfi"
      }
    },
    {
      "cell_type": "markdown",
      "source": [
        "We're using\n",
        "\n",
        "\n",
        "*   Predictor X: Energy\n",
        "*   Response y: Explicit\n",
        "\n"
      ],
      "metadata": {
        "id": "4LzMGTH4Oq3-"
      }
    },
    {
      "cell_type": "code",
      "source": [
        "spotify_clean['energy'].isnull().any()"
      ],
      "metadata": {
        "colab": {
          "base_uri": "https://localhost:8080/"
        },
        "id": "HiYhuVljWUG1",
        "outputId": "fa3e8660-a47b-4f62-f22c-2e7351d8cdef"
      },
      "execution_count": 49,
      "outputs": [
        {
          "output_type": "execute_result",
          "data": {
            "text/plain": [
              "False"
            ]
          },
          "metadata": {},
          "execution_count": 49
        }
      ]
    },
    {
      "cell_type": "code",
      "source": [
        "# Compute a Logistic Regression fit for the training dataset.\n",
        "lr_train = LogisticRegression(solver='liblinear')\n",
        "lr_train.fit(X=spotify_clean[['energy']],\n",
        "           y=spotify_clean['explicit'].values)\n",
        "lr_train.intercept_, lr_train.coef_"
      ],
      "metadata": {
        "id": "uCFpfRu6ADgV",
        "colab": {
          "base_uri": "https://localhost:8080/"
        },
        "outputId": "02c5463b-a2f4-4fb4-d3ab-26edba3e8271"
      },
      "execution_count": 61,
      "outputs": [
        {
          "output_type": "execute_result",
          "data": {
            "text/plain": [
              "(array([-3.41457886]), array([[1.53843497]]))"
            ]
          },
          "metadata": {},
          "execution_count": 61
        }
      ]
    },
    {
      "cell_type": "code",
      "source": [
        "# Make Observation vs. Prediciton Table"
      ],
      "metadata": {
        "id": "qpcAgy4bPBIK"
      },
      "execution_count": 51,
      "outputs": []
    },
    {
      "cell_type": "code",
      "source": [
        "# Create Confusion Matrix"
      ],
      "metadata": {
        "id": "KWgPHDKQO6AD"
      },
      "execution_count": 52,
      "outputs": []
    },
    {
      "cell_type": "code",
      "source": [
        "# Prediction Accuracy Assessment"
      ],
      "metadata": {
        "id": "TuB6oOC6O-rN"
      },
      "execution_count": 53,
      "outputs": []
    },
    {
      "cell_type": "code",
      "source": [
        "# Sensitivity (TPR) & Specificity (TNR)"
      ],
      "metadata": {
        "id": "JjeeuoV7PHAl"
      },
      "execution_count": 54,
      "outputs": []
    },
    {
      "cell_type": "code",
      "source": [
        "# Predicted Probability Densities"
      ],
      "metadata": {
        "id": "L47D6mJJPbx8"
      },
      "execution_count": 55,
      "outputs": []
    },
    {
      "cell_type": "code",
      "source": [
        "# ROC Curve"
      ],
      "metadata": {
        "id": "WFgXnMIGPheV"
      },
      "execution_count": 56,
      "outputs": []
    },
    {
      "cell_type": "code",
      "source": [
        "# Area Under the Curve (under the ROC curve) Score"
      ],
      "metadata": {
        "id": "nTv55ysYPjC1"
      },
      "execution_count": 57,
      "outputs": []
    },
    {
      "cell_type": "code",
      "source": [
        "# Cross Validation for Model Performance"
      ],
      "metadata": {
        "id": "MJp1IYFfPz9I"
      },
      "execution_count": 58,
      "outputs": []
    }
  ]
}