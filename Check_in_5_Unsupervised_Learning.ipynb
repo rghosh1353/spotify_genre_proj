{
  "nbformat": 4,
  "nbformat_minor": 0,
  "metadata": {
    "colab": {
      "provenance": [],
      "authorship_tag": "ABX9TyM55yhQGA1yQCwBSUq5GZMy"
    },
    "kernelspec": {
      "name": "python3",
      "display_name": "Python 3"
    },
    "language_info": {
      "name": "python"
    }
  },
  "cells": [
    {
      "cell_type": "code",
      "execution_count": null,
      "metadata": {
        "id": "JnRBesS3UXEZ"
      },
      "outputs": [],
      "source": [
        "pip install scikit-lego"
      ]
    },
    {
      "cell_type": "code",
      "source": [
        "import pandas as pd\n",
        "import matplotlib.pyplot as plt\n",
        "import seaborn as sns\n",
        "import numpy as np\n",
        "import plotly.express as px\n",
        "import plotly.graph_objects as go\n",
        "from sklearn.model_selection import train_test_split\n",
        "from sklearn.preprocessing import StandardScaler\n",
        "from sklearn.decomposition import PCA\n",
        "from sklearn.cluster import KMeans\n",
        "from sklearn.cluster import AgglomerativeClustering\n",
        "from sklearn.metrics import silhouette_score, silhouette_samples, rand_score, adjusted_rand_score"
      ],
      "metadata": {
        "id": "TsocdPneUq04"
      },
      "execution_count": null,
      "outputs": []
    },
    {
      "cell_type": "code",
      "source": [
        "df = pd.read_csv(\"hf://datasets/maharshipandya/spotify-tracks-dataset/dataset.csv\")"
      ],
      "metadata": {
        "id": "JaKertknU2UO"
      },
      "execution_count": null,
      "outputs": []
    },
    {
      "cell_type": "code",
      "source": [
        "#Checking loading of data frame\n",
        "df.head(5)"
      ],
      "metadata": {
        "id": "c8UbtzZQU4Fp"
      },
      "execution_count": null,
      "outputs": []
    },
    {
      "cell_type": "markdown",
      "source": [
        "## Apply cleaning function"
      ],
      "metadata": {
        "id": "6j6JxX_aU777"
      }
    },
    {
      "cell_type": "code",
      "source": [
        "# Data Cleaning Function (modify as needed)\n",
        "def clean_data(df):\n",
        "  clean_df = df.copy()\n",
        "  clean_df = clean_df.drop('Unnamed: 0', axis=1, errors='ignore')\n",
        "  clean_df = clean_df.dropna()\n",
        "\n",
        "  #Encode explicit column (binary encoding)\n",
        "  clean_df['explicit'] = clean_df['explicit'].astype(int)\n",
        "\n",
        "  #Remove track_id, artists,album_name, track_name, track_genre\n",
        "  clean_df = clean_df.drop(['track_id', 'artists', 'album_name', 'track_name','track_genre'], axis=1)\n",
        "\n",
        "  return clean_df\n",
        "\n",
        "# Apply the function to the DataFrame\n",
        "spotify_clean = clean_data(df)"
      ],
      "metadata": {
        "id": "p-9Nd9smU50R"
      },
      "execution_count": null,
      "outputs": []
    },
    {
      "cell_type": "code",
      "source": [
        "#Looking at cleaned data frame\n",
        "spotify_clean.head()"
      ],
      "metadata": {
        "id": "K8crxAE5VEyB"
      },
      "execution_count": null,
      "outputs": []
    },
    {
      "cell_type": "code",
      "source": [
        "# Normalize data"
      ],
      "metadata": {
        "id": "jAmuSiBoWFFv"
      },
      "execution_count": null,
      "outputs": []
    },
    {
      "cell_type": "markdown",
      "source": [
        "## PCA and/or Clustering\n",
        "\n",
        "If you apply PCA to your data, include code, cumulative variability explained, and scree plot. Explain how you are using PCA in your project for dimensionality reduction or to learn structure in the data.\n",
        "\n",
        "If you apply clustering, include code. quantitative metrics to evaluate clustering, and how you determined the number of clusters for your data and why. Explain how clustering helped you learn about the structure of data for your project."
      ],
      "metadata": {
        "id": "bMZfAZV6VZQj"
      }
    }
  ]
}